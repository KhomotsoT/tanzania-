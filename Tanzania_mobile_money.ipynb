{
 "cells": [
  {
   "cell_type": "markdown",
   "metadata": {},
   "source": [
    "# Financial services use in Tanzania\n",
    "\n",
    "\n",
    "#### Examining the dataset"
   ]
  },
  {
   "cell_type": "code",
   "execution_count": 1,
   "metadata": {},
   "outputs": [],
   "source": [
    "import pandas as pd\n",
    "import seaborn as sns\n",
    "import matplotlib.pyplot as plt\n",
    "import numpy as np\n"
   ]
  },
  {
   "cell_type": "markdown",
   "metadata": {},
   "source": [
    "# Examining the dataset"
   ]
  },
  {
   "cell_type": "code",
   "execution_count": 2,
   "metadata": {},
   "outputs": [
    {
     "data": {
      "text/html": [
       "<div>\n",
       "<style scoped>\n",
       "    .dataframe tbody tr th:only-of-type {\n",
       "        vertical-align: middle;\n",
       "    }\n",
       "\n",
       "    .dataframe tbody tr th {\n",
       "        vertical-align: top;\n",
       "    }\n",
       "\n",
       "    .dataframe thead th {\n",
       "        text-align: right;\n",
       "    }\n",
       "</style>\n",
       "<table border=\"1\" class=\"dataframe\">\n",
       "  <thead>\n",
       "    <tr style=\"text-align: right;\">\n",
       "      <th></th>\n",
       "      <th>ID</th>\n",
       "      <th>Q1</th>\n",
       "      <th>Q2</th>\n",
       "      <th>Q3</th>\n",
       "      <th>Q4</th>\n",
       "      <th>Q5</th>\n",
       "      <th>Q6</th>\n",
       "      <th>Q7</th>\n",
       "      <th>Q8_1</th>\n",
       "      <th>Q8_2</th>\n",
       "      <th>...</th>\n",
       "      <th>Q17</th>\n",
       "      <th>Q18</th>\n",
       "      <th>Q19</th>\n",
       "      <th>Latitude</th>\n",
       "      <th>Longitude</th>\n",
       "      <th>mobile_money</th>\n",
       "      <th>savings</th>\n",
       "      <th>borrowing</th>\n",
       "      <th>insurance</th>\n",
       "      <th>mobile_money_classification</th>\n",
       "    </tr>\n",
       "  </thead>\n",
       "  <tbody>\n",
       "    <tr>\n",
       "      <th>0</th>\n",
       "      <td>5086</td>\n",
       "      <td>98</td>\n",
       "      <td>2</td>\n",
       "      <td>3</td>\n",
       "      <td>1</td>\n",
       "      <td>1</td>\n",
       "      <td>2</td>\n",
       "      <td>2</td>\n",
       "      <td>0</td>\n",
       "      <td>0</td>\n",
       "      <td>...</td>\n",
       "      <td>-1</td>\n",
       "      <td>4</td>\n",
       "      <td>4</td>\n",
       "      <td>-4.460442</td>\n",
       "      <td>29.811396</td>\n",
       "      <td>0</td>\n",
       "      <td>0</td>\n",
       "      <td>0</td>\n",
       "      <td>0</td>\n",
       "      <td>0</td>\n",
       "    </tr>\n",
       "    <tr>\n",
       "      <th>1</th>\n",
       "      <td>1258</td>\n",
       "      <td>40</td>\n",
       "      <td>1</td>\n",
       "      <td>1</td>\n",
       "      <td>3</td>\n",
       "      <td>5</td>\n",
       "      <td>1</td>\n",
       "      <td>1</td>\n",
       "      <td>1</td>\n",
       "      <td>0</td>\n",
       "      <td>...</td>\n",
       "      <td>4</td>\n",
       "      <td>1</td>\n",
       "      <td>4</td>\n",
       "      <td>-6.176438</td>\n",
       "      <td>39.244871</td>\n",
       "      <td>1</td>\n",
       "      <td>1</td>\n",
       "      <td>1</td>\n",
       "      <td>0</td>\n",
       "      <td>3</td>\n",
       "    </tr>\n",
       "    <tr>\n",
       "      <th>2</th>\n",
       "      <td>331</td>\n",
       "      <td>18</td>\n",
       "      <td>2</td>\n",
       "      <td>4</td>\n",
       "      <td>6</td>\n",
       "      <td>3</td>\n",
       "      <td>2</td>\n",
       "      <td>1</td>\n",
       "      <td>0</td>\n",
       "      <td>0</td>\n",
       "      <td>...</td>\n",
       "      <td>-1</td>\n",
       "      <td>1</td>\n",
       "      <td>1</td>\n",
       "      <td>-6.825702</td>\n",
       "      <td>37.652798</td>\n",
       "      <td>1</td>\n",
       "      <td>0</td>\n",
       "      <td>0</td>\n",
       "      <td>0</td>\n",
       "      <td>2</td>\n",
       "    </tr>\n",
       "    <tr>\n",
       "      <th>3</th>\n",
       "      <td>6729</td>\n",
       "      <td>50</td>\n",
       "      <td>1</td>\n",
       "      <td>1</td>\n",
       "      <td>3</td>\n",
       "      <td>1</td>\n",
       "      <td>1</td>\n",
       "      <td>1</td>\n",
       "      <td>0</td>\n",
       "      <td>0</td>\n",
       "      <td>...</td>\n",
       "      <td>-1</td>\n",
       "      <td>1</td>\n",
       "      <td>4</td>\n",
       "      <td>-3.372049</td>\n",
       "      <td>35.808307</td>\n",
       "      <td>1</td>\n",
       "      <td>0</td>\n",
       "      <td>1</td>\n",
       "      <td>0</td>\n",
       "      <td>3</td>\n",
       "    </tr>\n",
       "    <tr>\n",
       "      <th>4</th>\n",
       "      <td>8671</td>\n",
       "      <td>34</td>\n",
       "      <td>1</td>\n",
       "      <td>1</td>\n",
       "      <td>1</td>\n",
       "      <td>1</td>\n",
       "      <td>2</td>\n",
       "      <td>1</td>\n",
       "      <td>0</td>\n",
       "      <td>1</td>\n",
       "      <td>...</td>\n",
       "      <td>-1</td>\n",
       "      <td>1</td>\n",
       "      <td>4</td>\n",
       "      <td>-7.179645</td>\n",
       "      <td>31.039095</td>\n",
       "      <td>1</td>\n",
       "      <td>1</td>\n",
       "      <td>0</td>\n",
       "      <td>1</td>\n",
       "      <td>3</td>\n",
       "    </tr>\n",
       "    <tr>\n",
       "      <th>...</th>\n",
       "      <td>...</td>\n",
       "      <td>...</td>\n",
       "      <td>...</td>\n",
       "      <td>...</td>\n",
       "      <td>...</td>\n",
       "      <td>...</td>\n",
       "      <td>...</td>\n",
       "      <td>...</td>\n",
       "      <td>...</td>\n",
       "      <td>...</td>\n",
       "      <td>...</td>\n",
       "      <td>...</td>\n",
       "      <td>...</td>\n",
       "      <td>...</td>\n",
       "      <td>...</td>\n",
       "      <td>...</td>\n",
       "      <td>...</td>\n",
       "      <td>...</td>\n",
       "      <td>...</td>\n",
       "      <td>...</td>\n",
       "      <td>...</td>\n",
       "    </tr>\n",
       "    <tr>\n",
       "      <th>7089</th>\n",
       "      <td>8378</td>\n",
       "      <td>57</td>\n",
       "      <td>2</td>\n",
       "      <td>3</td>\n",
       "      <td>3</td>\n",
       "      <td>1</td>\n",
       "      <td>2</td>\n",
       "      <td>2</td>\n",
       "      <td>0</td>\n",
       "      <td>1</td>\n",
       "      <td>...</td>\n",
       "      <td>-1</td>\n",
       "      <td>1</td>\n",
       "      <td>4</td>\n",
       "      <td>-5.811335</td>\n",
       "      <td>35.098103</td>\n",
       "      <td>0</td>\n",
       "      <td>1</td>\n",
       "      <td>0</td>\n",
       "      <td>0</td>\n",
       "      <td>1</td>\n",
       "    </tr>\n",
       "    <tr>\n",
       "      <th>7090</th>\n",
       "      <td>881</td>\n",
       "      <td>32</td>\n",
       "      <td>1</td>\n",
       "      <td>1</td>\n",
       "      <td>6</td>\n",
       "      <td>3</td>\n",
       "      <td>1</td>\n",
       "      <td>1</td>\n",
       "      <td>0</td>\n",
       "      <td>1</td>\n",
       "      <td>...</td>\n",
       "      <td>-1</td>\n",
       "      <td>1</td>\n",
       "      <td>1</td>\n",
       "      <td>-2.635156</td>\n",
       "      <td>32.945423</td>\n",
       "      <td>1</td>\n",
       "      <td>1</td>\n",
       "      <td>0</td>\n",
       "      <td>0</td>\n",
       "      <td>3</td>\n",
       "    </tr>\n",
       "    <tr>\n",
       "      <th>7091</th>\n",
       "      <td>6672</td>\n",
       "      <td>22</td>\n",
       "      <td>2</td>\n",
       "      <td>3</td>\n",
       "      <td>3</td>\n",
       "      <td>3</td>\n",
       "      <td>2</td>\n",
       "      <td>2</td>\n",
       "      <td>0</td>\n",
       "      <td>1</td>\n",
       "      <td>...</td>\n",
       "      <td>-1</td>\n",
       "      <td>4</td>\n",
       "      <td>4</td>\n",
       "      <td>-8.303729</td>\n",
       "      <td>31.059642</td>\n",
       "      <td>0</td>\n",
       "      <td>0</td>\n",
       "      <td>0</td>\n",
       "      <td>0</td>\n",
       "      <td>0</td>\n",
       "    </tr>\n",
       "    <tr>\n",
       "      <th>7092</th>\n",
       "      <td>5416</td>\n",
       "      <td>28</td>\n",
       "      <td>2</td>\n",
       "      <td>1</td>\n",
       "      <td>3</td>\n",
       "      <td>1</td>\n",
       "      <td>2</td>\n",
       "      <td>2</td>\n",
       "      <td>0</td>\n",
       "      <td>1</td>\n",
       "      <td>...</td>\n",
       "      <td>-1</td>\n",
       "      <td>1</td>\n",
       "      <td>4</td>\n",
       "      <td>-8.090712</td>\n",
       "      <td>35.836560</td>\n",
       "      <td>1</td>\n",
       "      <td>0</td>\n",
       "      <td>0</td>\n",
       "      <td>1</td>\n",
       "      <td>3</td>\n",
       "    </tr>\n",
       "    <tr>\n",
       "      <th>7093</th>\n",
       "      <td>3946</td>\n",
       "      <td>78</td>\n",
       "      <td>1</td>\n",
       "      <td>3</td>\n",
       "      <td>1</td>\n",
       "      <td>1</td>\n",
       "      <td>2</td>\n",
       "      <td>2</td>\n",
       "      <td>0</td>\n",
       "      <td>0</td>\n",
       "      <td>...</td>\n",
       "      <td>-1</td>\n",
       "      <td>4</td>\n",
       "      <td>4</td>\n",
       "      <td>-5.192204</td>\n",
       "      <td>38.764523</td>\n",
       "      <td>0</td>\n",
       "      <td>0</td>\n",
       "      <td>0</td>\n",
       "      <td>0</td>\n",
       "      <td>0</td>\n",
       "    </tr>\n",
       "  </tbody>\n",
       "</table>\n",
       "<p>7094 rows × 37 columns</p>\n",
       "</div>"
      ],
      "text/plain": [
       "        ID  Q1  Q2  Q3  Q4  Q5  Q6  Q7  Q8_1  Q8_2  ...  Q17  Q18  Q19  \\\n",
       "0     5086  98   2   3   1   1   2   2     0     0  ...   -1    4    4   \n",
       "1     1258  40   1   1   3   5   1   1     1     0  ...    4    1    4   \n",
       "2      331  18   2   4   6   3   2   1     0     0  ...   -1    1    1   \n",
       "3     6729  50   1   1   3   1   1   1     0     0  ...   -1    1    4   \n",
       "4     8671  34   1   1   1   1   2   1     0     1  ...   -1    1    4   \n",
       "...    ...  ..  ..  ..  ..  ..  ..  ..   ...   ...  ...  ...  ...  ...   \n",
       "7089  8378  57   2   3   3   1   2   2     0     1  ...   -1    1    4   \n",
       "7090   881  32   1   1   6   3   1   1     0     1  ...   -1    1    1   \n",
       "7091  6672  22   2   3   3   3   2   2     0     1  ...   -1    4    4   \n",
       "7092  5416  28   2   1   3   1   2   2     0     1  ...   -1    1    4   \n",
       "7093  3946  78   1   3   1   1   2   2     0     0  ...   -1    4    4   \n",
       "\n",
       "      Latitude  Longitude  mobile_money  savings  borrowing  insurance  \\\n",
       "0    -4.460442  29.811396             0        0          0          0   \n",
       "1    -6.176438  39.244871             1        1          1          0   \n",
       "2    -6.825702  37.652798             1        0          0          0   \n",
       "3    -3.372049  35.808307             1        0          1          0   \n",
       "4    -7.179645  31.039095             1        1          0          1   \n",
       "...        ...        ...           ...      ...        ...        ...   \n",
       "7089 -5.811335  35.098103             0        1          0          0   \n",
       "7090 -2.635156  32.945423             1        1          0          0   \n",
       "7091 -8.303729  31.059642             0        0          0          0   \n",
       "7092 -8.090712  35.836560             1        0          0          1   \n",
       "7093 -5.192204  38.764523             0        0          0          0   \n",
       "\n",
       "      mobile_money_classification  \n",
       "0                               0  \n",
       "1                               3  \n",
       "2                               2  \n",
       "3                               3  \n",
       "4                               3  \n",
       "...                           ...  \n",
       "7089                            1  \n",
       "7090                            3  \n",
       "7091                            0  \n",
       "7092                            3  \n",
       "7093                            0  \n",
       "\n",
       "[7094 rows x 37 columns]"
      ]
     },
     "execution_count": 2,
     "metadata": {},
     "output_type": "execute_result"
    }
   ],
   "source": [
    "df = pd.read_csv('training.csv')\n",
    "df"
   ]
  },
  {
   "cell_type": "markdown",
   "metadata": {},
   "source": [
    " * ##### This data frame consists of 7094 rows and 37 columns, this also means that there are 7094 individuals involved in survey/research"
   ]
  },
  {
   "cell_type": "markdown",
   "metadata": {},
   "source": [
    " "
   ]
  },
  {
   "cell_type": "markdown",
   "metadata": {},
   "source": [
    " "
   ]
  },
  {
   "cell_type": "markdown",
   "metadata": {},
   "source": [
    "### Renaming columns"
   ]
  },
  {
   "cell_type": "code",
   "execution_count": 4,
   "metadata": {},
   "outputs": [],
   "source": [
    "df.rename(columns={'Q1' : 'Age' , 'Q2': 'Gender' , 'Q3' : 'Marital_status', 'Q4' : 'Highest_level_of_education_completed', 'Q5' : 'Residential_ownership', 'Q6': 'Land_ownership', 'Q7' : 'Own_mobile_phone', 'Q8_1' : 'Salaries/wages', 'Q8_2' : 'Selling_products/goods', 'Q8_3':'Providing_services',\n",
    "       'Q8_4': 'Piece_jobs', 'Q8_5' : 'Rental_income' , 'Q8_6' :'Saving/investments', 'Q8_7': 'Pension', 'Q8_8': 'Government_grants', 'Q8_9' : 'Money_given_by_someone', 'Q8_10' : 'No_income', 'Q8_11' : 'Other', 'Q9' : 'Work_info_for_salary_earners',\n",
    "       'Q10' : 'Sellers_good/products', 'Q11' : 'Services_from_Providers', 'Q12' : 'Money_sent_for_the_past_12_months', 'Q13' : 'Last_time_money_sent', 'Q14' : 'Money_received_in_past_12_months', 'Q15': 'Last_time_money_received', 'Q16' : 'Frequency_of_Mobile_money_goods/services_purchases', 'Q17' : 'Frequency_of_Mobile_money_bill_payments', 'Q18' : 'Literacy_in_Kiswhahili', 'Q19' : 'Literacy_in_English', }, inplace=True)"
   ]
  },
  {
   "cell_type": "code",
   "execution_count": 5,
   "metadata": {},
   "outputs": [
    {
     "data": {
      "text/plain": [
       "['ID',\n",
       " 'Age',\n",
       " 'Gender',\n",
       " 'Marital_status',\n",
       " 'Highest_level_of_education_completed',\n",
       " 'Residential_ownership',\n",
       " 'Land_ownership',\n",
       " 'Own_mobile_phone',\n",
       " 'Salaries/wages',\n",
       " 'Selling_products/goods',\n",
       " 'Providing_services',\n",
       " 'Piece_jobs',\n",
       " 'Rental_income',\n",
       " 'Saving/investments',\n",
       " 'Pension',\n",
       " 'Government_grants',\n",
       " 'Money_given_by_someone',\n",
       " 'No_income',\n",
       " 'Other',\n",
       " 'Work_info_for_salary_earners',\n",
       " 'Sellers_good/products',\n",
       " 'Services_from_Providers',\n",
       " 'Money_sent_for_the_past_12_months',\n",
       " 'Last_time_money_sent',\n",
       " 'Money_received_in_past_12_months',\n",
       " 'Last_time_money_received',\n",
       " 'Frequency_of_Mobile_money_goods/services_purchases',\n",
       " 'Frequency_of_Mobile_money_bill_payments',\n",
       " 'Literacy_in_Kiswhahili',\n",
       " 'Literacy_in_English',\n",
       " 'Latitude',\n",
       " 'Longitude',\n",
       " 'mobile_money',\n",
       " 'savings',\n",
       " 'borrowing',\n",
       " 'insurance',\n",
       " 'mobile_money_classification']"
      ]
     },
     "execution_count": 5,
     "metadata": {},
     "output_type": "execute_result"
    }
   ],
   "source": [
    "list(df.columns)"
   ]
  },
  {
   "cell_type": "code",
   "execution_count": 6,
   "metadata": {},
   "outputs": [
    {
     "data": {
      "text/html": [
       "<div>\n",
       "<style scoped>\n",
       "    .dataframe tbody tr th:only-of-type {\n",
       "        vertical-align: middle;\n",
       "    }\n",
       "\n",
       "    .dataframe tbody tr th {\n",
       "        vertical-align: top;\n",
       "    }\n",
       "\n",
       "    .dataframe thead th {\n",
       "        text-align: right;\n",
       "    }\n",
       "</style>\n",
       "<table border=\"1\" class=\"dataframe\">\n",
       "  <thead>\n",
       "    <tr style=\"text-align: right;\">\n",
       "      <th></th>\n",
       "      <th>ID</th>\n",
       "      <th>Age</th>\n",
       "      <th>Gender</th>\n",
       "      <th>Marital_status</th>\n",
       "      <th>Highest_level_of_education_completed</th>\n",
       "      <th>Residential_ownership</th>\n",
       "      <th>Land_ownership</th>\n",
       "      <th>Own_mobile_phone</th>\n",
       "      <th>Salaries/wages</th>\n",
       "      <th>Selling_products/goods</th>\n",
       "      <th>...</th>\n",
       "      <th>Frequency_of_Mobile_money_bill_payments</th>\n",
       "      <th>Literacy_in_Kiswhahili</th>\n",
       "      <th>Literacy_in_English</th>\n",
       "      <th>Latitude</th>\n",
       "      <th>Longitude</th>\n",
       "      <th>mobile_money</th>\n",
       "      <th>savings</th>\n",
       "      <th>borrowing</th>\n",
       "      <th>insurance</th>\n",
       "      <th>mobile_money_classification</th>\n",
       "    </tr>\n",
       "  </thead>\n",
       "  <tbody>\n",
       "    <tr>\n",
       "      <th>0</th>\n",
       "      <td>5086</td>\n",
       "      <td>98</td>\n",
       "      <td>2</td>\n",
       "      <td>3</td>\n",
       "      <td>1</td>\n",
       "      <td>1</td>\n",
       "      <td>2</td>\n",
       "      <td>2</td>\n",
       "      <td>0</td>\n",
       "      <td>0</td>\n",
       "      <td>...</td>\n",
       "      <td>-1</td>\n",
       "      <td>4</td>\n",
       "      <td>4</td>\n",
       "      <td>-4.460442</td>\n",
       "      <td>29.811396</td>\n",
       "      <td>0</td>\n",
       "      <td>0</td>\n",
       "      <td>0</td>\n",
       "      <td>0</td>\n",
       "      <td>0</td>\n",
       "    </tr>\n",
       "    <tr>\n",
       "      <th>1</th>\n",
       "      <td>1258</td>\n",
       "      <td>40</td>\n",
       "      <td>1</td>\n",
       "      <td>1</td>\n",
       "      <td>3</td>\n",
       "      <td>5</td>\n",
       "      <td>1</td>\n",
       "      <td>1</td>\n",
       "      <td>1</td>\n",
       "      <td>0</td>\n",
       "      <td>...</td>\n",
       "      <td>4</td>\n",
       "      <td>1</td>\n",
       "      <td>4</td>\n",
       "      <td>-6.176438</td>\n",
       "      <td>39.244871</td>\n",
       "      <td>1</td>\n",
       "      <td>1</td>\n",
       "      <td>1</td>\n",
       "      <td>0</td>\n",
       "      <td>3</td>\n",
       "    </tr>\n",
       "    <tr>\n",
       "      <th>2</th>\n",
       "      <td>331</td>\n",
       "      <td>18</td>\n",
       "      <td>2</td>\n",
       "      <td>4</td>\n",
       "      <td>6</td>\n",
       "      <td>3</td>\n",
       "      <td>2</td>\n",
       "      <td>1</td>\n",
       "      <td>0</td>\n",
       "      <td>0</td>\n",
       "      <td>...</td>\n",
       "      <td>-1</td>\n",
       "      <td>1</td>\n",
       "      <td>1</td>\n",
       "      <td>-6.825702</td>\n",
       "      <td>37.652798</td>\n",
       "      <td>1</td>\n",
       "      <td>0</td>\n",
       "      <td>0</td>\n",
       "      <td>0</td>\n",
       "      <td>2</td>\n",
       "    </tr>\n",
       "    <tr>\n",
       "      <th>3</th>\n",
       "      <td>6729</td>\n",
       "      <td>50</td>\n",
       "      <td>1</td>\n",
       "      <td>1</td>\n",
       "      <td>3</td>\n",
       "      <td>1</td>\n",
       "      <td>1</td>\n",
       "      <td>1</td>\n",
       "      <td>0</td>\n",
       "      <td>0</td>\n",
       "      <td>...</td>\n",
       "      <td>-1</td>\n",
       "      <td>1</td>\n",
       "      <td>4</td>\n",
       "      <td>-3.372049</td>\n",
       "      <td>35.808307</td>\n",
       "      <td>1</td>\n",
       "      <td>0</td>\n",
       "      <td>1</td>\n",
       "      <td>0</td>\n",
       "      <td>3</td>\n",
       "    </tr>\n",
       "    <tr>\n",
       "      <th>4</th>\n",
       "      <td>8671</td>\n",
       "      <td>34</td>\n",
       "      <td>1</td>\n",
       "      <td>1</td>\n",
       "      <td>1</td>\n",
       "      <td>1</td>\n",
       "      <td>2</td>\n",
       "      <td>1</td>\n",
       "      <td>0</td>\n",
       "      <td>1</td>\n",
       "      <td>...</td>\n",
       "      <td>-1</td>\n",
       "      <td>1</td>\n",
       "      <td>4</td>\n",
       "      <td>-7.179645</td>\n",
       "      <td>31.039095</td>\n",
       "      <td>1</td>\n",
       "      <td>1</td>\n",
       "      <td>0</td>\n",
       "      <td>1</td>\n",
       "      <td>3</td>\n",
       "    </tr>\n",
       "  </tbody>\n",
       "</table>\n",
       "<p>5 rows × 37 columns</p>\n",
       "</div>"
      ],
      "text/plain": [
       "     ID  Age  Gender  Marital_status  Highest_level_of_education_completed  \\\n",
       "0  5086   98       2               3                                     1   \n",
       "1  1258   40       1               1                                     3   \n",
       "2   331   18       2               4                                     6   \n",
       "3  6729   50       1               1                                     3   \n",
       "4  8671   34       1               1                                     1   \n",
       "\n",
       "   Residential_ownership  Land_ownership  Own_mobile_phone  Salaries/wages  \\\n",
       "0                      1               2                 2               0   \n",
       "1                      5               1                 1               1   \n",
       "2                      3               2                 1               0   \n",
       "3                      1               1                 1               0   \n",
       "4                      1               2                 1               0   \n",
       "\n",
       "   Selling_products/goods  ...  Frequency_of_Mobile_money_bill_payments  \\\n",
       "0                       0  ...                                       -1   \n",
       "1                       0  ...                                        4   \n",
       "2                       0  ...                                       -1   \n",
       "3                       0  ...                                       -1   \n",
       "4                       1  ...                                       -1   \n",
       "\n",
       "   Literacy_in_Kiswhahili  Literacy_in_English  Latitude  Longitude  \\\n",
       "0                       4                    4 -4.460442  29.811396   \n",
       "1                       1                    4 -6.176438  39.244871   \n",
       "2                       1                    1 -6.825702  37.652798   \n",
       "3                       1                    4 -3.372049  35.808307   \n",
       "4                       1                    4 -7.179645  31.039095   \n",
       "\n",
       "   mobile_money  savings  borrowing  insurance  mobile_money_classification  \n",
       "0             0        0          0          0                            0  \n",
       "1             1        1          1          0                            3  \n",
       "2             1        0          0          0                            2  \n",
       "3             1        0          1          0                            3  \n",
       "4             1        1          0          1                            3  \n",
       "\n",
       "[5 rows x 37 columns]"
      ]
     },
     "execution_count": 6,
     "metadata": {},
     "output_type": "execute_result"
    }
   ],
   "source": [
    "df.head()"
   ]
  },
  {
   "cell_type": "markdown",
   "metadata": {},
   "source": [
    "### Mapping columns  "
   ]
  },
  {
   "cell_type": "code",
   "execution_count": 8,
   "metadata": {},
   "outputs": [],
   "source": [
    "# Gender\n",
    "assign_gen = {2:'Female', 1:'Male'}\n",
    "df['Gender'] = df['Gender'].map(assign_gen)\n",
    "\n",
    "# Marital status\n",
    "assign_ms = {1:'Married', 2:'Divorced', 3:'Widowed', 4:'Single'}\n",
    "df['Marital_status'] = df['Marital_status'].map(assign_ms)\n",
    "\n",
    "# Residential_ownership\n",
    "assign_ron = {1:'Personally own a plot', 2:'Joint ownership', 3:'Household member owns a plot', 4:'Rented plot', 5:'Dont own or rent the land', 6:'Dont know'}\n",
    "df['Residential_ownership'] = df['Residential_ownership'].map(assign_ron)\n",
    "\n",
    "# Land_ownership\n",
    "assign_lon = {1:'Yes', 2:'No'}\n",
    "df['Land_ownership'] = df['Land_ownership'].map(assign_lon)\n",
    "\n",
    "# Own_mobile_phone\n",
    "assign_omp = {1:'Yes', 2:'No'}\n",
    "df['Own_mobile_phone'] = df['Own_mobile_phone'].map(assign_omp)\n",
    "\n",
    "# Salaries/wages\n",
    "assign_sw = {1:'Yes', 0:'No'}\n",
    "df['Salaries/wages'] = df['Salaries/wages'].map(assign_sw) \n",
    "\n",
    "# Selling_products/goods\n",
    "assign_spg = {1:'Yes', 0:'No'}\n",
    "df['Selling_products/goods'] = df['Selling_products/goods'].map(assign_spg)\n",
    "\n",
    "# Providing_services\n",
    "assign_ps = {1:'Yes', 0:'No'}\n",
    "df['Providing_services'] = df['Providing_services'].map(assign_ps)\n",
    "\n",
    "# 'Piece_jobs'\n",
    "assign_pj = {1:'Yes', 0:'No'}\n",
    "df['Piece_jobs'] = df['Piece_jobs'].map(assign_pj)\n",
    "\n",
    "# Highest_level_of_qualification\n",
    "assign_hq= {1:'No formal education', 2:'Some primary', 3:'Primary completed', 4:'Post primary technical training', 5:'Some secondary', 6: 'University or other higher education', 7: 'Don’t know'}\n",
    "df['Highest_level_of_education_completed'] = df['Highest_level_of_education_completed'].map(assign_hq)\n",
    "\n",
    "# 'Rental_income'\n",
    "assign_ri = {1:'Yes', 0:'No'}\n",
    "df['Rental_income'] = df['Rental_income'].map(assign_ri)\n",
    "\n",
    "# 'Saving/investments'\n",
    "assign_si = {1:'Yes', 0:'No'}\n",
    "df['Saving/investments'] = df['Saving/investments'].map(assign_si)\n",
    "\n",
    "# 'Pension'\n",
    "assign_pn = {1:'Yes', 0:'No'}\n",
    "df['Pension'] = df['Pension'].map(assign_pn)\n",
    "\n",
    "# 'Government_grants'\n",
    "assign_gg = {1:'Yes', 0:'No'}\n",
    "df['Government_grants'] = df['Government_grants'].map(assign_gg)\n",
    "\n",
    "# 'Money_given_by_someone'\n",
    "assign_mgs = {1:'Yes', 0:'No'}\n",
    "df['Money_given_by_someone'] = df['Money_given_by_someone'].map(assign_mgs)\n",
    "\n",
    "# 'No_income'\n",
    "assign_ni = {1:'Yes', 0:'No'}\n",
    "df['No_income'] = df['No_income'].map(assign_ni)\n",
    "\n",
    "# 'Other'\n",
    "assign_oo = {1:'Yes', 0:'No'}\n",
    "df['Other'] = df['Other'].map(assign_oo)\n",
    "\n",
    "# 'Work_info_for_salary earners'\n",
    "assign_wis = {-1 :'n/a', 1:'Government', 2: 'Private company/business', 3: 'Business owner', 4: 'Small scale farmer', 5: 'Commercial farmer', 6: 'Work for individual/household', 7: 'Other'  }\n",
    "df['Work_info_for_salary_earners'] = df['Work_info_for_salary_earners'].map(assign_wis)\n",
    "\n",
    "# Sellers_products/goods\n",
    "assign_sps = {-1:'n/a', 1:'Grown crops/produce', 2: 'Products from livestock', 3: 'Livestock', 4: 'Aquaculture', 5: 'Agricultural products', 6: 'Non-agricultural products', 7: 'Hand-crafted', 8: 'Nature-collection', 9: 'Processed products', 10: 'Other'}\n",
    "df['Sellers_good/products'] = df['Sellers_good/products'].map(assign_sps)\n",
    "\n",
    "# Services_from_Providers\n",
    "assign_sfp = {-1 :'n/a', 1:'Personal services', 2: 'Telecommunications/IT', 3: 'Financial services', 4: 'Transport', 5: 'Hospitality', 6: 'Information/research', 7: 'Technical', 8: 'Educational/child care', 9: 'Health services', 10: 'Legal services', 11: 'Security', 12: 'Other'}\n",
    "df['Services_from_Providers'] = df['Services_from_Providers'].map(assign_sfp)\n",
    "\n",
    "# Money_sent_for_the_past_12_months\n",
    "assign_msy = {1:'Yes', 2:'No'}\n",
    "df['Money_sent_for_the_past_12_months'] = df['Money_sent_for_the_past_12_months'].map(assign_msy)\n",
    "\n",
    "# Money_received_in_past_12_months\n",
    "assign_mry = {1:'Yes', 2:'No'}\n",
    "df['Money_received_in_past_12_months'] = df['Money_received_in_past_12_months'].map(assign_mry)\n",
    "\n",
    "\n",
    "# Last_time_money_sent\n",
    "assign_lms = {-1:'n/a', 1:'Yesterday/today', 2: 'Past 7 days', 3: 'Past 30 days', 4: 'past 90 days', 5: 'Over 90 days to 6 months', 6: 'over 6 months'}\n",
    "df['Last_time_money_sent'] = df['Last_time_money_sent'].map(assign_lms)\n",
    "\n",
    "# Last_time_money_received\n",
    "assign_lmr = {-1:'n/a', 1:'Yesterday/today', 2: 'Past 7 days', 3: 'Past 30 days', 4: 'past 90 days', 5: 'Over 90 days to 6 months', 6: 'over 6 months'}\n",
    "df['Last_time_money_received'] = df['Last_time_money_received'].map(assign_lmr)\n",
    "\n",
    "# Frequency_of_Mobile_money_goods/services_purchases\n",
    "assign_fmp = {-1:'n/a', 1:'never', 2: 'Daily', 3: 'Weekly', 4: 'Monthly', 5: 'less often'}\n",
    "df['Frequency_of_Mobile_money_goods/services_purchases'] = df['Frequency_of_Mobile_money_goods/services_purchases'].map(assign_fmp)\n",
    "\n",
    "# Frequency_of_Mobile_money_bill_payments\n",
    "assign_fmb = {-1:'n/a', 1:'never', 2: 'Daily', 3: 'Weekly', 4: 'Monthly', 5: 'less often'}\n",
    "df['Frequency_of_Mobile_money_bill_payments'] = df['Frequency_of_Mobile_money_bill_payments'].map(assign_fmb)\n",
    "\n",
    "# Literacy_in_Kiswhahili\n",
    "assign_lik = {1:'Can read and write', 2: 'Read only', 3: 'Write only', 4: 'neither read/write', 5: 'refused to read'}\n",
    "df['Literacy_in_Kiswhahili'] = df['Literacy_in_Kiswhahili'].map(assign_lik)\n",
    "   \n",
    "# Literacy_in_English\n",
    "assign_lie = {1:'Can read and write', 2: 'Read only', 3: 'Write only', 4: 'neither read/write', 5: 'refused to read'}\n",
    "df['Literacy_in_English'] = df['Literacy_in_English'].map(assign_lie)\n",
    " \n",
    "# mobile_money\n",
    "assign_ = {1:'Yes', 0:'No'}\n",
    "df['mobile_money'] = df['mobile_money'].map(assign_oo)\n",
    "     \n",
    "# savings\n",
    "assign_sv = {1:'Yes', 0:'No'}\n",
    "df['savings'] = df['savings'].map(assign_sv)\n",
    "\n",
    "# borrowing\n",
    "assign_br = {1:'Yes', 0:'No'}\n",
    "df['borrowing'] = df['borrowing'].map(assign_br)\n",
    " \n",
    "# insurance\n",
    "assign_ins = {1:'Yes', 0:'No'}\n",
    "df['insurance'] = df['insurance'].map(assign_ins)\n",
    "\n",
    "# mobile_money_classification\n",
    "assign_mmc = {0:'No mobile money/ any finan.serv', 1:'No Mobile money, atleast financial serv', 2: 'Mobile money only', 3:'Mobile money & other finan. serv'}\n",
    "df['mobile_money_classification'] = df['mobile_money_classification'].map(assign_mmc)"
   ]
  },
  {
   "cell_type": "code",
   "execution_count": 9,
   "metadata": {},
   "outputs": [],
   "source": []
  },
  {
   "cell_type": "code",
   "execution_count": 13,
   "metadata": {},
   "outputs": [
    {
     "data": {
      "text/html": [
       "<div>\n",
       "<style scoped>\n",
       "    .dataframe tbody tr th:only-of-type {\n",
       "        vertical-align: middle;\n",
       "    }\n",
       "\n",
       "    .dataframe tbody tr th {\n",
       "        vertical-align: top;\n",
       "    }\n",
       "\n",
       "    .dataframe thead th {\n",
       "        text-align: right;\n",
       "    }\n",
       "</style>\n",
       "<table border=\"1\" class=\"dataframe\">\n",
       "  <thead>\n",
       "    <tr style=\"text-align: right;\">\n",
       "      <th></th>\n",
       "      <th>ID</th>\n",
       "      <th>Age</th>\n",
       "      <th>Gender</th>\n",
       "      <th>Marital_status</th>\n",
       "      <th>Highest_level_of_education_completed</th>\n",
       "      <th>Residential_ownership</th>\n",
       "      <th>Land_ownership</th>\n",
       "      <th>Own_mobile_phone</th>\n",
       "      <th>Salaries/wages</th>\n",
       "      <th>Selling_products/goods</th>\n",
       "      <th>...</th>\n",
       "      <th>Frequency_of_Mobile_money_bill_payments</th>\n",
       "      <th>Literacy_in_Kiswhahili</th>\n",
       "      <th>Literacy_in_English</th>\n",
       "      <th>Latitude</th>\n",
       "      <th>Longitude</th>\n",
       "      <th>mobile_money</th>\n",
       "      <th>savings</th>\n",
       "      <th>borrowing</th>\n",
       "      <th>insurance</th>\n",
       "      <th>mobile_money_classification</th>\n",
       "    </tr>\n",
       "  </thead>\n",
       "  <tbody>\n",
       "    <tr>\n",
       "      <th>0</th>\n",
       "      <td>5086</td>\n",
       "      <td>98</td>\n",
       "      <td>Female</td>\n",
       "      <td>Widowed</td>\n",
       "      <td>No formal education</td>\n",
       "      <td>Personally own a plot</td>\n",
       "      <td>No</td>\n",
       "      <td>No</td>\n",
       "      <td>No</td>\n",
       "      <td>No</td>\n",
       "      <td>...</td>\n",
       "      <td>n/a</td>\n",
       "      <td>neither read/write</td>\n",
       "      <td>neither read/write</td>\n",
       "      <td>-4.460442</td>\n",
       "      <td>29.811396</td>\n",
       "      <td>No</td>\n",
       "      <td>No</td>\n",
       "      <td>No</td>\n",
       "      <td>No</td>\n",
       "      <td>No mobile money/ any finan.serv</td>\n",
       "    </tr>\n",
       "    <tr>\n",
       "      <th>1</th>\n",
       "      <td>1258</td>\n",
       "      <td>40</td>\n",
       "      <td>Male</td>\n",
       "      <td>Married</td>\n",
       "      <td>Primary completed</td>\n",
       "      <td>Dont own or rent the land</td>\n",
       "      <td>Yes</td>\n",
       "      <td>Yes</td>\n",
       "      <td>Yes</td>\n",
       "      <td>No</td>\n",
       "      <td>...</td>\n",
       "      <td>Monthly</td>\n",
       "      <td>Can read and write</td>\n",
       "      <td>neither read/write</td>\n",
       "      <td>-6.176438</td>\n",
       "      <td>39.244871</td>\n",
       "      <td>Yes</td>\n",
       "      <td>Yes</td>\n",
       "      <td>Yes</td>\n",
       "      <td>No</td>\n",
       "      <td>Mobile money &amp; other finan. serv</td>\n",
       "    </tr>\n",
       "    <tr>\n",
       "      <th>2</th>\n",
       "      <td>331</td>\n",
       "      <td>18</td>\n",
       "      <td>Female</td>\n",
       "      <td>Single</td>\n",
       "      <td>University or other higher education</td>\n",
       "      <td>Household member owns a plot</td>\n",
       "      <td>No</td>\n",
       "      <td>Yes</td>\n",
       "      <td>No</td>\n",
       "      <td>No</td>\n",
       "      <td>...</td>\n",
       "      <td>n/a</td>\n",
       "      <td>Can read and write</td>\n",
       "      <td>Can read and write</td>\n",
       "      <td>-6.825702</td>\n",
       "      <td>37.652798</td>\n",
       "      <td>Yes</td>\n",
       "      <td>No</td>\n",
       "      <td>No</td>\n",
       "      <td>No</td>\n",
       "      <td>Mobile money only</td>\n",
       "    </tr>\n",
       "    <tr>\n",
       "      <th>3</th>\n",
       "      <td>6729</td>\n",
       "      <td>50</td>\n",
       "      <td>Male</td>\n",
       "      <td>Married</td>\n",
       "      <td>Primary completed</td>\n",
       "      <td>Personally own a plot</td>\n",
       "      <td>Yes</td>\n",
       "      <td>Yes</td>\n",
       "      <td>No</td>\n",
       "      <td>No</td>\n",
       "      <td>...</td>\n",
       "      <td>n/a</td>\n",
       "      <td>Can read and write</td>\n",
       "      <td>neither read/write</td>\n",
       "      <td>-3.372049</td>\n",
       "      <td>35.808307</td>\n",
       "      <td>Yes</td>\n",
       "      <td>No</td>\n",
       "      <td>Yes</td>\n",
       "      <td>No</td>\n",
       "      <td>Mobile money &amp; other finan. serv</td>\n",
       "    </tr>\n",
       "    <tr>\n",
       "      <th>4</th>\n",
       "      <td>8671</td>\n",
       "      <td>34</td>\n",
       "      <td>Male</td>\n",
       "      <td>Married</td>\n",
       "      <td>No formal education</td>\n",
       "      <td>Personally own a plot</td>\n",
       "      <td>No</td>\n",
       "      <td>Yes</td>\n",
       "      <td>No</td>\n",
       "      <td>Yes</td>\n",
       "      <td>...</td>\n",
       "      <td>n/a</td>\n",
       "      <td>Can read and write</td>\n",
       "      <td>neither read/write</td>\n",
       "      <td>-7.179645</td>\n",
       "      <td>31.039095</td>\n",
       "      <td>Yes</td>\n",
       "      <td>Yes</td>\n",
       "      <td>No</td>\n",
       "      <td>Yes</td>\n",
       "      <td>Mobile money &amp; other finan. serv</td>\n",
       "    </tr>\n",
       "  </tbody>\n",
       "</table>\n",
       "<p>5 rows × 37 columns</p>\n",
       "</div>"
      ],
      "text/plain": [
       "     ID  Age  Gender Marital_status  Highest_level_of_education_completed  \\\n",
       "0  5086   98  Female        Widowed                   No formal education   \n",
       "1  1258   40    Male        Married                     Primary completed   \n",
       "2   331   18  Female         Single  University or other higher education   \n",
       "3  6729   50    Male        Married                     Primary completed   \n",
       "4  8671   34    Male        Married                   No formal education   \n",
       "\n",
       "          Residential_ownership Land_ownership Own_mobile_phone  \\\n",
       "0         Personally own a plot             No               No   \n",
       "1     Dont own or rent the land            Yes              Yes   \n",
       "2  Household member owns a plot             No              Yes   \n",
       "3         Personally own a plot            Yes              Yes   \n",
       "4         Personally own a plot             No              Yes   \n",
       "\n",
       "  Salaries/wages Selling_products/goods  ...  \\\n",
       "0             No                     No  ...   \n",
       "1            Yes                     No  ...   \n",
       "2             No                     No  ...   \n",
       "3             No                     No  ...   \n",
       "4             No                    Yes  ...   \n",
       "\n",
       "  Frequency_of_Mobile_money_bill_payments Literacy_in_Kiswhahili  \\\n",
       "0                                     n/a     neither read/write   \n",
       "1                                 Monthly     Can read and write   \n",
       "2                                     n/a     Can read and write   \n",
       "3                                     n/a     Can read and write   \n",
       "4                                     n/a     Can read and write   \n",
       "\n",
       "  Literacy_in_English  Latitude  Longitude mobile_money savings borrowing  \\\n",
       "0  neither read/write -4.460442  29.811396           No      No        No   \n",
       "1  neither read/write -6.176438  39.244871          Yes     Yes       Yes   \n",
       "2  Can read and write -6.825702  37.652798          Yes      No        No   \n",
       "3  neither read/write -3.372049  35.808307          Yes      No       Yes   \n",
       "4  neither read/write -7.179645  31.039095          Yes     Yes        No   \n",
       "\n",
       "  insurance       mobile_money_classification  \n",
       "0        No   No mobile money/ any finan.serv  \n",
       "1        No  Mobile money & other finan. serv  \n",
       "2        No                 Mobile money only  \n",
       "3        No  Mobile money & other finan. serv  \n",
       "4       Yes  Mobile money & other finan. serv  \n",
       "\n",
       "[5 rows x 37 columns]"
      ]
     },
     "execution_count": 13,
     "metadata": {},
     "output_type": "execute_result"
    }
   ],
   "source": [
    "df.head()"
   ]
  },
  {
   "cell_type": "markdown",
   "metadata": {},
   "source": [
    "#### Missing Values"
   ]
  },
  {
   "cell_type": "code",
   "execution_count": 3,
   "metadata": {},
   "outputs": [
    {
     "name": "stdout",
     "output_type": "stream",
     "text": [
      "Number of missing values: 0\n"
     ]
    }
   ],
   "source": [
    "missing_data = df.isnull().sum().sum()\n",
    "print('Number of missing values:',missing_data)"
   ]
  },
  {
   "cell_type": "markdown",
   "metadata": {},
   "source": [
    "* There are no missing values"
   ]
  },
  {
   "cell_type": "markdown",
   "metadata": {},
   "source": [
    " #### Describtive stats"
   ]
  },
  {
   "cell_type": "code",
   "execution_count": 11,
   "metadata": {},
   "outputs": [
    {
     "data": {
      "text/html": [
       "<div>\n",
       "<style scoped>\n",
       "    .dataframe tbody tr th:only-of-type {\n",
       "        vertical-align: middle;\n",
       "    }\n",
       "\n",
       "    .dataframe tbody tr th {\n",
       "        vertical-align: top;\n",
       "    }\n",
       "\n",
       "    .dataframe thead th {\n",
       "        text-align: right;\n",
       "    }\n",
       "</style>\n",
       "<table border=\"1\" class=\"dataframe\">\n",
       "  <thead>\n",
       "    <tr style=\"text-align: right;\">\n",
       "      <th></th>\n",
       "      <th>ID</th>\n",
       "      <th>Age</th>\n",
       "      <th>Latitude</th>\n",
       "      <th>Longitude</th>\n",
       "    </tr>\n",
       "  </thead>\n",
       "  <tbody>\n",
       "    <tr>\n",
       "      <th>count</th>\n",
       "      <td>7094.000000</td>\n",
       "      <td>7094.000000</td>\n",
       "      <td>7094.000000</td>\n",
       "      <td>7094.000000</td>\n",
       "    </tr>\n",
       "    <tr>\n",
       "      <th>mean</th>\n",
       "      <td>4742.627291</td>\n",
       "      <td>38.239498</td>\n",
       "      <td>-6.034378</td>\n",
       "      <td>35.354029</td>\n",
       "    </tr>\n",
       "    <tr>\n",
       "      <th>std</th>\n",
       "      <td>2731.120086</td>\n",
       "      <td>16.332148</td>\n",
       "      <td>2.720888</td>\n",
       "      <td>2.899511</td>\n",
       "    </tr>\n",
       "    <tr>\n",
       "      <th>min</th>\n",
       "      <td>1.000000</td>\n",
       "      <td>16.000000</td>\n",
       "      <td>-11.467463</td>\n",
       "      <td>29.639578</td>\n",
       "    </tr>\n",
       "    <tr>\n",
       "      <th>25%</th>\n",
       "      <td>2397.250000</td>\n",
       "      <td>25.000000</td>\n",
       "      <td>-8.275387</td>\n",
       "      <td>32.935429</td>\n",
       "    </tr>\n",
       "    <tr>\n",
       "      <th>50%</th>\n",
       "      <td>4744.500000</td>\n",
       "      <td>35.000000</td>\n",
       "      <td>-6.087854</td>\n",
       "      <td>35.073326</td>\n",
       "    </tr>\n",
       "    <tr>\n",
       "      <th>75%</th>\n",
       "      <td>7105.000000</td>\n",
       "      <td>48.000000</td>\n",
       "      <td>-3.517053</td>\n",
       "      <td>38.351815</td>\n",
       "    </tr>\n",
       "    <tr>\n",
       "      <th>max</th>\n",
       "      <td>9459.000000</td>\n",
       "      <td>100.000000</td>\n",
       "      <td>-1.084000</td>\n",
       "      <td>40.258744</td>\n",
       "    </tr>\n",
       "  </tbody>\n",
       "</table>\n",
       "</div>"
      ],
      "text/plain": [
       "                ID          Age     Latitude    Longitude\n",
       "count  7094.000000  7094.000000  7094.000000  7094.000000\n",
       "mean   4742.627291    38.239498    -6.034378    35.354029\n",
       "std    2731.120086    16.332148     2.720888     2.899511\n",
       "min       1.000000    16.000000   -11.467463    29.639578\n",
       "25%    2397.250000    25.000000    -8.275387    32.935429\n",
       "50%    4744.500000    35.000000    -6.087854    35.073326\n",
       "75%    7105.000000    48.000000    -3.517053    38.351815\n",
       "max    9459.000000   100.000000    -1.084000    40.258744"
      ]
     },
     "execution_count": 11,
     "metadata": {},
     "output_type": "execute_result"
    }
   ],
   "source": [
    " df.describe()"
   ]
  },
  {
   "cell_type": "markdown",
   "metadata": {},
   "source": [
    "* Oldest person(s) = 100 years and yougest person(s) = 16 years old\n",
    "* The average age = 38"
   ]
  },
  {
   "cell_type": "markdown",
   "metadata": {},
   "source": [
    "#####  sum by age-interval"
   ]
  },
  {
   "cell_type": "code",
   "execution_count": 12,
   "metadata": {},
   "outputs": [
    {
     "data": {
      "text/plain": [
       "(24, 35]     2249\n",
       "(15, 24]     1535\n",
       "(35, 44]     1145\n",
       "(44, 55]     1009\n",
       "(55, 64]      518\n",
       "(64, 75]      430\n",
       "(75, 84]      147\n",
       "(84, 100]      61\n",
       "Name: Age, dtype: int64"
      ]
     },
     "execution_count": 12,
     "metadata": {},
     "output_type": "execute_result"
    }
   ],
   "source": [
    "Age_interval = (pd.cut(df['Age'], [15,24,35,44,55,64,75,84,100]).value_counts())\n",
    "Age_interval"
   ]
  },
  {
   "cell_type": "markdown",
   "metadata": {},
   "source": [
    "#### People from Age:\n",
    " * 16 to 24 = 1535\n",
    " * 25 to 35 = 2249\n",
    " * 36 to 44 = 1145\n",
    " * 45 to 55 = 1009\n",
    " * 56 to 64 = 518\n",
    " * 65 to 75 = 430\n",
    " * 76 to 84 = 147\n",
    " * 85 to 100 = 61"
   ]
  },
  {
   "cell_type": "markdown",
   "metadata": {},
   "source": [
    " "
   ]
  },
  {
   "cell_type": "markdown",
   "metadata": {},
   "source": [
    "#### Income data"
   ]
  },
  {
   "cell_type": "code",
   "execution_count": 7,
   "metadata": {},
   "outputs": [
    {
     "data": {
      "text/plain": [
       "Trading                  4470\n",
       "Casual_Work              2393\n",
       "Financially_Dependant    1112\n",
       "Salaries_wages            441\n",
       "Services                  412\n",
       "Third_Party               410\n",
       "Social_Welfare            131\n",
       "Rental_Income              67\n",
       "Pension                    34\n",
       "Interests                  34\n",
       "Other                       9\n",
       "Name: Remuneration, dtype: int64"
      ]
     },
     "execution_count": 7,
     "metadata": {},
     "output_type": "execute_result"
    }
   ],
   "source": [
    "rem = df.loc[:, 'Salaries_wages':'Other']\n",
    "rem['mobile_money'] = df['mobile_money']\n",
    "rem = pd.melt(rem, id_vars = ['mobile_money'], var_name='Remuneration') \n",
    "rem = rem[rem['value'] == \"Yes\"]\n",
    "rem.Remuneration.value_counts()\n",
    "#rem.head()"
   ]
  },
  {
   "cell_type": "markdown",
   "metadata": {},
   "source": [
    "Looking at the above dataframe you can separately see a breakdown of how many people who recieved different types of incomes.  "
   ]
  },
  {
   "cell_type": "markdown",
   "metadata": {},
   "source": [
    " "
   ]
  },
  {
   "cell_type": "markdown",
   "metadata": {},
   "source": [
    "### Mobile money classification vs Age"
   ]
  },
  {
   "cell_type": "code",
   "execution_count": 9,
   "metadata": {},
   "outputs": [
    {
     "data": {
      "text/plain": [
       "<matplotlib.axes._subplots.AxesSubplot at 0x7fa241551290>"
      ]
     },
     "execution_count": 9,
     "metadata": {},
     "output_type": "execute_result"
    },
    {
     "data": {
      "image/png": "[encoded data removed]",
      "text/plain": [
       "<Figure size 936x576 with 1 Axes>"
      ]
     },
     "metadata": {
      "needs_background": "light"
     },
     "output_type": "display_data"
    }
   ],
   "source": [
    "df['Age'] = df.Age.apply(lambda x : int(x/10) * 10)\n",
    "plt.figure(figsize = (13,8))\n",
    "sns.countplot(x = 'Age', hue = 'mobile_money_classification', data = mobile_mon)"
   ]
  },
  {
   "cell_type": "markdown",
   "metadata": {},
   "source": [
    "* People from the between 20s and 50s are mostly using MOBILE MONEY AND OTHER FINANCIAL SERVICES compared to all clasifications, while people who dont use Mobile money but using atleast  one other financial services are also many compared to those who use ONLY MOBILE MONEY & NO MOBILE OR OTHER FINANCIAL SERVICES"
   ]
  },
  {
   "cell_type": "markdown",
   "metadata": {},
   "source": [
    "### Mobile money classification vs Gender"
   ]
  },
  {
   "cell_type": "code",
   "execution_count": 16,
   "metadata": {},
   "outputs": [
    {
     "data": {
      "text/plain": [
       "Text(0.5, 1, 'Mobile money classification vs Marital Status')"
      ]
     },
     "execution_count": 16,
     "metadata": {},
     "output_type": "execute_result"
    },
    {
     "data": {
      "image/png": "[encoded data removed]",
      "text/plain": [
       "<Figure size 593.375x360 with 1 Axes>"
      ]
     },
     "metadata": {
      "needs_background": "light"
     },
     "output_type": "display_data"
    }
   ],
   "source": [
    "\n",
    "_ = sns.catplot(x='Gender', kind= 'count', hue='mobile_money_classification', data=df)\n",
    "plt.xlabel('Gender')\n",
    "plt.ylabel('Number Of People')\n",
    "plt.title('Mobile money classification vs Marital Status', fontsize=15)\n"
   ]
  },
  {
   "cell_type": "markdown",
   "metadata": {},
   "source": [
    "* MOBILE MONEY AND OTHER FINANCIAL SERVICES is dominated by males, whereas females dominate in other three clasifications."
   ]
  },
  {
   "cell_type": "markdown",
   "metadata": {},
   "source": [
    "### Mobile money classification vs Marital Status"
   ]
  },
  {
   "cell_type": "code",
   "execution_count": 21,
   "metadata": {},
   "outputs": [
    {
     "data": {
      "text/plain": [
       "Text(0.5, 1, 'Mobile money classification vs Marital_Status')"
      ]
     },
     "execution_count": 21,
     "metadata": {},
     "output_type": "execute_result"
    },
    {
     "data": {
      "image/png": "[encoded data removed]",
      "text/plain": [
       "<Figure size 593.375x360 with 1 Axes>"
      ]
     },
     "metadata": {
      "needs_background": "light"
     },
     "output_type": "display_data"
    }
   ],
   "source": [
    "_ = sns.catplot(x='Marital_status',kind='count', hue='mobile_money_classification', data=df).set(xlabel='Marital_status')\n",
    "plt.title('Mobile money classification vs Marital_Status')"
   ]
  },
  {
   "cell_type": "markdown",
   "metadata": {},
   "source": [
    "* In all categories, people who use Mobile money only are the least.\n",
    "* Mobile money and other financial services is leading in all other catergories except on 'Widowed' individuals"
   ]
  },
  {
   "cell_type": "markdown",
   "metadata": {},
   "source": [
    " "
   ]
  },
  {
   "cell_type": "markdown",
   "metadata": {},
   "source": [
    "### Mobile money classification vs Land Ownership"
   ]
  },
  {
   "cell_type": "code",
   "execution_count": 22,
   "metadata": {
    "scrolled": false
   },
   "outputs": [
    {
     "data": {
      "text/plain": [
       "Text(34.70776041666667, 0.5, 'Number Of People')"
      ]
     },
     "execution_count": 22,
     "metadata": {},
     "output_type": "execute_result"
    },
    {
     "data": {
      "image/png": "[encoded data removed]",
      "text/plain": [
       "<Figure size 593.375x360 with 1 Axes>"
      ]
     },
     "metadata": {
      "needs_background": "light"
     },
     "output_type": "display_data"
    }
   ],
   "source": [
    "_ = sns.catplot(x='Land_ownership', kind= 'count', hue='mobile_money_classification', data=df)\n",
    "plt.xlabel('Land Ownership')\n",
    "plt.ylabel('Number Of People')"
   ]
  },
  {
   "cell_type": "markdown",
   "metadata": {},
   "source": [
    "* Mobile money & other financial service catergory dominates in both group of individuals who owns the land and who don't.\n",
    "\n"
   ]
  },
  {
   "cell_type": "markdown",
   "metadata": {},
   "source": [
    "### Mobile money classification vs Types of income"
   ]
  },
  {
   "cell_type": "code",
   "execution_count": 15,
   "metadata": {},
   "outputs": [
    {
     "data": {
      "text/plain": [
       "Text(0, 0.5, 'Income Type')"
      ]
     },
     "execution_count": 15,
     "metadata": {},
     "output_type": "execute_result"
    },
    {
     "data": {
      "image/png": "[encoded data removed]",
      "text/plain": [
       "<Figure size 432x288 with 1 Axes>"
      ]
     },
     "metadata": {
      "needs_background": "light"
     },
     "output_type": "display_data"
    }
   ],
   "source": [
    "sns.countplot(y='Remuneration', hue= 'mobile_money', data= rem)\n",
    "plt.ylabel('Income Type')"
   ]
  },
  {
   "cell_type": "markdown",
   "metadata": {},
   "source": [
    "# Mobile services used in Age, Gender, Marital Status, Land Ownership"
   ]
  },
  {
   "cell_type": "code",
   "execution_count": 26,
   "metadata": {},
   "outputs": [
    {
     "data": {
      "text/plain": [
       "Text(0.5, 1.0, 'How often people with land ownership use mobile money for purchases')"
      ]
     },
     "execution_count": 26,
     "metadata": {},
     "output_type": "execute_result"
    },
    {
     "data": {
      "image/png": "[encoded data removed]",
      "text/plain": [
       "<Figure size 1440x1440 with 4 Axes>"
      ]
     },
     "metadata": {
      "needs_background": "light"
     },
     "output_type": "display_data"
    }
   ],
   "source": [
    "f, axes = plt.subplots(1, 2,figsize=(20, 20))\n",
    "grid = plt.GridSpec(2, 3, wspace=0.4, hspace=0.3)\n",
    "plt.subplot(grid[0, 0])\n",
    "sns.countplot(x='Gender', hue='Frequency_of_Mobile_money_goods/services_purchases', data=df)\n",
    "plt.xlabel('Gender', fontsize=15)\n",
    "plt.ylabel('Frequency', fontsize=15)\n",
    "plt.title('How often people use mobile money for purchases by Gender', fontsize=15)\n",
    "\n",
    "plt.subplot(grid[0, 1:])\n",
    "df['Age'] = df.Age.apply(lambda x : int(x/10) * 10)\n",
    "sns.countplot(x ='Age', hue='Frequency_of_Mobile_money_goods/services_purchases', data = df)\n",
    "plt.xlabel('Age', fontsize=15)\n",
    "plt.ylabel('Frequency', fontsize=15)\n",
    "plt.title('How often people use mobile money for purchases by Age', fontsize=15)\n",
    "\n",
    "plt.subplot(grid[1, :2])\n",
    "sns.countplot(x='Marital_status', hue='Frequency_of_Mobile_money_goods/services_purchases', data=df)\n",
    "plt.xlabel('Marital Status', fontsize=15)\n",
    "plt.ylabel('Frequency', fontsize=15)\n",
    "plt.title('How often people use mobile money for purchases by Marital Status', fontsize=15)\n",
    "\n",
    "plt.subplot(grid[1, 2])\n",
    "sns.countplot(x='Land_ownership', hue='Frequency_of_Mobile_money_goods/services_purchases', data=df)\n",
    "plt.xlabel('Land Ownership', fontsize=15)\n",
    "plt.ylabel('Frequency', fontsize=15)\n",
    "plt.title('How often people with land ownership use mobile money for purchases', fontsize=15)"
   ]
  },
  {
   "cell_type": "markdown",
   "metadata": {},
   "source": [
    "## 5. Geographic Map"
   ]
  },
  {
   "cell_type": "code",
   "execution_count": null,
   "metadata": {},
   "outputs": [],
   "source": []
  },
  {
   "cell_type": "code",
   "execution_count": null,
   "metadata": {},
   "outputs": [],
   "source": []
  },
  {
   "cell_type": "code",
   "execution_count": null,
   "metadata": {},
   "outputs": [],
   "source": []
  }
 ],
 "metadata": {
  "kernelspec": {
   "display_name": "Python 3",
   "language": "python",
   "name": "python3"
  },
  "language_info": {
   "codemirror_mode": {
    "name": "ipython",
    "version": 3
   },
   "file_extension": ".py",
   "mimetype": "text/x-python",
   "name": "python",
   "nbconvert_exporter": "python",
   "pygments_lexer": "ipython3",
   "version": "3.7.4"
  }
 },
 "nbformat": 4,
 "nbformat_minor": 2
}
